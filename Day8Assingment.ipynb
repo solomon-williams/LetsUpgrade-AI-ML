{
  "nbformat": 4,
  "nbformat_minor": 0,
  "metadata": {
    "colab": {
      "name": "Day8Assingment.ipynb",
      "provenance": [],
      "authorship_tag": "ABX9TyOJ8Iv0kR51kWg83B7gA8q9",
      "include_colab_link": true
    },
    "kernelspec": {
      "name": "python3",
      "display_name": "Python 3"
    }
  },
  "cells": [
    {
      "cell_type": "markdown",
      "metadata": {
        "id": "view-in-github",
        "colab_type": "text"
      },
      "source": [
        "<a href=\"https://colab.research.google.com/github/solomon-williams/LetsUpgrade-AI-ML/blob/master/Day8Assingment.ipynb\" target=\"_parent\"><img src=\"https://colab.research.google.com/assets/colab-badge.svg\" alt=\"Open In Colab\"/></a>"
      ]
    },
    {
      "cell_type": "markdown",
      "metadata": {
        "id": "Z_lDDGDve2V_",
        "colab_type": "text"
      },
      "source": [
        "# **1) Recreate “NB 21 map, filter, lambda.ipynb” to try different variations or perform different calculations from the ones that are in the NB**\n",
        "\n",
        "---"
      ]
    },
    {
      "cell_type": "markdown",
      "metadata": {
        "id": "SMB745azJEGB",
        "colab_type": "text"
      },
      "source": [
        "# *Python Lambda Function :*\n",
        "\n",
        "*   The lambda function is a small anonymous function which can take any number of \n",
        "arguments, but can only have one expression.\n",
        "\n",
        "## Lambda Functions can be used as, \n",
        "\n",
        "*   One time use: They are used in places where we know that the function will be required just once. Therefore, lambda functions are also called as throw away functions\n",
        "\n",
        "*  Input/Output to other functions: They are also passed as inputs or returned as outputs of other higher-order functions.\n",
        "\n",
        "\n",
        "*   Reduce Code size: The body of lambda functions is written in a single line.\n",
        "\n",
        "\n",
        "**Syntax :**\n",
        "\n",
        "`lambda arguments : expression`\n"
      ]
    },
    {
      "cell_type": "code",
      "metadata": {
        "id": "KIrv6iSuLlqa",
        "colab_type": "code",
        "colab": {
          "base_uri": "https://localhost:8080/",
          "height": 34
        },
        "outputId": "86c5e2e7-62a7-4a3d-d759-0b7d116165a7"
      },
      "source": [
        " # Program to find the 4th root of a number\n",
        " x = lambda a : pow(a , 0.25)\n",
        "print(x(16))"
      ],
      "execution_count": 3,
      "outputs": [
        {
          "output_type": "stream",
          "text": [
            "2.0\n"
          ],
          "name": "stdout"
        }
      ]
    },
    {
      "cell_type": "code",
      "metadata": {
        "id": "KK0MF04OMCCA",
        "colab_type": "code",
        "colab": {
          "base_uri": "https://localhost:8080/",
          "height": 34
        },
        "outputId": "27aa19a4-d181-438d-bb18-5c5535f2ee0c"
      },
      "source": [
        "# Program to add multiple numbers\n",
        "x = lambda a, b, c : a + b + c\n",
        "print(x(23,23,23))"
      ],
      "execution_count": 4,
      "outputs": [
        {
          "output_type": "stream",
          "text": [
            "69\n"
          ],
          "name": "stdout"
        }
      ]
    },
    {
      "cell_type": "code",
      "metadata": {
        "id": "vVCLRg2zMqO1",
        "colab_type": "code",
        "colab": {
          "base_uri": "https://localhost:8080/",
          "height": 34
        },
        "outputId": "bf0f9905-d0f0-4727-8020-d6e859f983cf"
      },
      "source": [
        "# Program to double a given number\n",
        "def func(n):\n",
        "  return lambda a : a * n\n",
        "\n",
        "doubler = func(2)\n",
        "\n",
        "print(doubler(11))"
      ],
      "execution_count": 7,
      "outputs": [
        {
          "output_type": "stream",
          "text": [
            "22\n"
          ],
          "name": "stdout"
        }
      ]
    },
    {
      "cell_type": "markdown",
      "metadata": {
        "id": "UbnqhfinN80z",
        "colab_type": "text"
      },
      "source": [
        "# *Map, Filter and Reduce functions in python :*\n",
        "\n",
        "The above functions are some of many predefined functions in python. These functions can take any other function as a parameter and can be supplied to other functions as parameters as well."
      ]
    },
    {
      "cell_type": "markdown",
      "metadata": {
        "id": "T5Ep8f8AQMKN",
        "colab_type": "text"
      },
      "source": [
        "## *map ( ) :* \n",
        "\n",
        "It applies the given function to all iterables and returns a new list.\n",
        "\n",
        "**Syntax :**\n",
        "\n",
        "```\n",
        "map(function,iterables)  \n",
        "```"
      ]
    },
    {
      "cell_type": "code",
      "metadata": {
        "id": "SCuzZo-sRoKU",
        "colab_type": "code",
        "colab": {
          "base_uri": "https://localhost:8080/",
          "height": 51
        },
        "outputId": "55a19505-3278-425e-91e3-488cc58dc40c"
      },
      "source": [
        "def func(a):\n",
        "    return a*a\n",
        "x = map(newfunc, (1,2,3,4))  #x is the map object\n",
        "print(type(x))\n",
        "print(list(x))"
      ],
      "execution_count": 10,
      "outputs": [
        {
          "output_type": "stream",
          "text": [
            "<class 'map'>\n",
            "[1, 4, 9, 16]\n"
          ],
          "name": "stdout"
        }
      ]
    },
    {
      "cell_type": "code",
      "metadata": {
        "id": "Eb3fWDsaR3On",
        "colab_type": "code",
        "colab": {
          "base_uri": "https://localhost:8080/",
          "height": 51
        },
        "outputId": "5c996e18-598a-4ce9-dded-09a137ae7f5b"
      },
      "source": [
        "def func(a, b):\n",
        "    return a + b\n",
        " \n",
        "a = map(func, [2, 4, 5], [1,2,3])\n",
        "print(a)\n",
        "print(list(a))"
      ],
      "execution_count": 12,
      "outputs": [
        {
          "output_type": "stream",
          "text": [
            "<map object at 0x7fdf56487400>\n",
            "[3, 6, 8]\n"
          ],
          "name": "stdout"
        }
      ]
    },
    {
      "cell_type": "code",
      "metadata": {
        "id": "vhhjM5NsTzxb",
        "colab_type": "code",
        "colab": {
          "base_uri": "https://localhost:8080/",
          "height": 34
        },
        "outputId": "9a09cffc-b114-4713-bdb6-6ea01fab6e2d"
      },
      "source": [
        "def sqr(a,b):\n",
        "    return a*b\n",
        "# your code goes here3\n",
        "print(list(map(sqr, [1,2,3,4], [2,2,2,2] )))"
      ],
      "execution_count": 25,
      "outputs": [
        {
          "output_type": "stream",
          "text": [
            "[2, 4, 6, 8]\n"
          ],
          "name": "stdout"
        }
      ]
    },
    {
      "cell_type": "code",
      "metadata": {
        "id": "in2N10EmSgZd",
        "colab_type": "code",
        "colab": {
          "base_uri": "https://localhost:8080/",
          "height": 34
        },
        "outputId": "48931790-6b6e-4747-d2c8-b84808223297"
      },
      "source": [
        "# Using Lambda in map()\n",
        "a = (5, 7, 22, 97, 54, 62, 77, 23, 73, 61)\n",
        "newtuple = tuple(map(lambda x: x+3 , a)) \n",
        "print(newtuple) "
      ],
      "execution_count": 15,
      "outputs": [
        {
          "output_type": "stream",
          "text": [
            "(8, 10, 25, 100, 57, 65, 80, 26, 76, 64)\n"
          ],
          "name": "stdout"
        }
      ]
    },
    {
      "cell_type": "markdown",
      "metadata": {
        "id": "gufDsAgVUfDL",
        "colab_type": "text"
      },
      "source": [
        "## *filter ( ) :*\n",
        "\n",
        "It is used to filter the given iterables with the help of another function passed as an argument to test all the elements to be True or False.\n",
        "\n",
        "**Syntax :**\n",
        "\n",
        "\n",
        "\n",
        "```\n",
        "filter(function,iterables)\n",
        "```"
      ]
    },
    {
      "cell_type": "code",
      "metadata": {
        "id": "CZujwcZeVX24",
        "colab_type": "code",
        "colab": {
          "base_uri": "https://localhost:8080/",
          "height": 51
        },
        "outputId": "5000204b-9344-415d-fe73-f429b56657f7"
      },
      "source": [
        "# Program to Filter Number greater than 5\n",
        "def func(x):\n",
        "    if x > 5:\n",
        "        return x\n",
        "y = filter(func, range(1,100, 5))  \n",
        "print(y)\n",
        "print(list(y))"
      ],
      "execution_count": 36,
      "outputs": [
        {
          "output_type": "stream",
          "text": [
            "<filter object at 0x7fdf4e7fa9e8>\n",
            "[6, 11, 16, 21, 26, 31, 36, 41, 46, 51, 56, 61, 66, 71, 76, 81, 86, 91, 96]\n"
          ],
          "name": "stdout"
        }
      ]
    },
    {
      "cell_type": "code",
      "metadata": {
        "id": "V52DRu6PWoIV",
        "colab_type": "code",
        "colab": {
          "base_uri": "https://localhost:8080/",
          "height": 34
        },
        "outputId": "d4228bdf-e645-463d-c3f3-cd3212a63bbc"
      },
      "source": [
        "# Program to Filter numbers less than 0 using Lambda\n",
        "number_list = range(-5, 5)\n",
        "less_than_zero = list(filter(lambda x: x < 0, number_list))\n",
        "\n",
        "print(less_than_zero)"
      ],
      "execution_count": 33,
      "outputs": [
        {
          "output_type": "stream",
          "text": [
            "[-5, -4, -3, -2, -1]\n"
          ],
          "name": "stdout"
        }
      ]
    },
    {
      "cell_type": "code",
      "metadata": {
        "id": "pvyw5jEUYTnI",
        "colab_type": "code",
        "colab": {
          "base_uri": "https://localhost:8080/",
          "height": 34
        },
        "outputId": "65b84eef-a890-446d-d102-e15cb413bf2a"
      },
      "source": [
        "years = [1980, 1988, 1990, 1992, 1993, 1998, 2002]\n",
        " \n",
        "leapyear = list(filter(lambda x: (x%4 == 0) , years))\n",
        " \n",
        "print(\"Leap Years :\" ,leapyear)"
      ],
      "execution_count": 40,
      "outputs": [
        {
          "output_type": "stream",
          "text": [
            "Leap Years : [1980, 1988, 1992]\n"
          ],
          "name": "stdout"
        }
      ]
    },
    {
      "cell_type": "code",
      "metadata": {
        "id": "SxsIzLWwdFQV",
        "colab_type": "code",
        "colab": {
          "base_uri": "https://localhost:8080/",
          "height": 51
        },
        "outputId": "a0f20faf-b948-40a9-fdbc-003329dc3966"
      },
      "source": [
        "# Using filter within map \n",
        "x = map(lambda x: x+x,  filter(lambda x: x>=3., [1,2,3,4]))\n",
        "print(x)\n",
        "print(list(x))"
      ],
      "execution_count": 42,
      "outputs": [
        {
          "output_type": "stream",
          "text": [
            "<map object at 0x7fdf4e871400>\n",
            "[6, 8]\n"
          ],
          "name": "stdout"
        }
      ]
    },
    {
      "cell_type": "markdown",
      "metadata": {
        "id": "5nPvbbX-X4ki",
        "colab_type": "text"
      },
      "source": [
        "## *reduce ( ) :*\n",
        "\n",
        "It applies some other function to a list that are passed as a parameter to it and finally return a single value.\n",
        "\n",
        "**Syntax :**\n",
        "\n",
        "```\n",
        "reduce(function, iterables)\n",
        "```"
      ]
    },
    {
      "cell_type": "code",
      "metadata": {
        "id": "3uJcP_cQdV2K",
        "colab_type": "code",
        "colab": {
          "base_uri": "https://localhost:8080/",
          "height": 34
        },
        "outputId": "2cda2fba-7bfb-406a-a265-ee0fbbc659d2"
      },
      "source": [
        "from functools import reduce\n",
        " \n",
        "def Sum(x1, x2): \n",
        "    return x1 + x2\n",
        "\n",
        "print(reduce(Sum, [1, 2, 3, 4]))\n"
      ],
      "execution_count": 43,
      "outputs": [
        {
          "output_type": "stream",
          "text": [
            "10\n"
          ],
          "name": "stdout"
        }
      ]
    },
    {
      "cell_type": "code",
      "metadata": {
        "id": "ym2A0UlqZb6P",
        "colab_type": "code",
        "colab": {
          "base_uri": "https://localhost:8080/",
          "height": 34
        },
        "outputId": "fc3d6c4e-7fb3-48f7-f064-a9eaa9cc1b26"
      },
      "source": [
        "from functools import reduce\n",
        "\n",
        "product = reduce((lambda x, y: x * y), [1, 2, 3, 4])\n",
        "print(product)"
      ],
      "execution_count": 45,
      "outputs": [
        {
          "output_type": "stream",
          "text": [
            "24\n"
          ],
          "name": "stdout"
        }
      ]
    },
    {
      "cell_type": "code",
      "metadata": {
        "id": "QX92Vq1Vd-AH",
        "colab_type": "code",
        "colab": {
          "base_uri": "https://localhost:8080/",
          "height": 34
        },
        "outputId": "2f6e3982-c806-4f93-82b3-4cf7c016254b"
      },
      "source": [
        "# Using map and filter within reduce\n",
        "x = reduce(lambda x,y: x*y,  map(lambda x: x+x, filter(lambda x: x>=3, (1,2,3,4))))\n",
        "\n",
        "print(x)"
      ],
      "execution_count": 53,
      "outputs": [
        {
          "output_type": "stream",
          "text": [
            "48\n"
          ],
          "name": "stdout"
        }
      ]
    },
    {
      "cell_type": "markdown",
      "metadata": {
        "id": "FwMSujDdhIe-",
        "colab_type": "text"
      },
      "source": [
        "# **2) Recreate your own Python NB for “Classes and Objects” from the pdf provided namely “Classes&Objects.pdf”**\n",
        "\n",
        "---"
      ]
    },
    {
      "cell_type": "markdown",
      "metadata": {
        "id": "I58wJtJiiYK8",
        "colab_type": "text"
      },
      "source": [
        "# *Classes and Objects in Python :*\n",
        "\n",
        "* Class is a blue print of an object which defines the properties and behaviour of an object.\n",
        "A class contains variables and methods.\n",
        "\n",
        "**Syntax :**\n",
        "\n",
        "```\n",
        "class <class_name>\n",
        "      # Class Variables/Data members\n",
        "\n",
        "      # Class constructor method \n",
        "      def __init__():\n",
        "      # Class Method/Instance Method\n",
        "```\n",
        "\n"
      ]
    },
    {
      "cell_type": "code",
      "metadata": {
        "id": "If3aOCfasRR5",
        "colab_type": "code",
        "colab": {}
      },
      "source": [
        "# Creating a Simple Class\n",
        "class Student:\n",
        "    roll = 69\n",
        "    name = \"Solomon\"\n",
        "    age = 18"
      ],
      "execution_count": 69,
      "outputs": []
    },
    {
      "cell_type": "code",
      "metadata": {
        "id": "BMO4BQxiselx",
        "colab_type": "code",
        "colab": {
          "base_uri": "https://localhost:8080/",
          "height": 51
        },
        "outputId": "731ebe16-b19c-4aa3-d182-436c4e6e5202"
      },
      "source": [
        "# Creating Class Object\n",
        "class Student:\n",
        "    roll = 69\n",
        "    name = \"Solomon\"\n",
        "    age = 18\n",
        " \n",
        " \n",
        "s = Student()\n",
        "print(s.roll,s.name,s.age)\n",
        "print(type(s))"
      ],
      "execution_count": 68,
      "outputs": [
        {
          "output_type": "stream",
          "text": [
            "69 Solomon 18\n",
            "<class '__main__.Student'>\n"
          ],
          "name": "stdout"
        }
      ]
    },
    {
      "cell_type": "markdown",
      "metadata": {
        "id": "zTs6-4AytDnL",
        "colab_type": "text"
      },
      "source": [
        "##*Self Attributes :*\n",
        "\n",
        "* This is the first parameter in any function/method defined inside a class. \n",
        "\n",
        "* It is used as a reference to the current instance of a class.\n",
        "\n",
        "* It is an instance object.\n",
        "\n",
        "```\n",
        "def Student(self):\n",
        "```\n"
      ]
    },
    {
      "cell_type": "code",
      "metadata": {
        "id": "G3hsoKJhhGnv",
        "colab_type": "code",
        "colab": {
          "base_uri": "https://localhost:8080/",
          "height": 34
        },
        "outputId": "7890addb-c830-43d0-8e39-2834e5b4b999"
      },
      "source": [
        "# init Method\n",
        "class Student:\n",
        "  def __init__(self,roll,name,age):\n",
        "        self.roll = roll\n",
        "        self.name = name\n",
        "        self.age = age\n",
        "\n",
        "s = Student(69,\"Solomon\",18)\n",
        "print(s.roll,s.name,s.age)\n",
        "\n"
      ],
      "execution_count": 65,
      "outputs": [
        {
          "output_type": "stream",
          "text": [
            "69 Solomon 18\n"
          ],
          "name": "stdout"
        }
      ]
    },
    {
      "cell_type": "code",
      "metadata": {
        "id": "oZG6DZqerQgQ",
        "colab_type": "code",
        "colab": {
          "base_uri": "https://localhost:8080/",
          "height": 68
        },
        "outputId": "0dba1d1b-de9d-4d9d-847a-d495483abde9"
      },
      "source": [
        "# Object Method\n",
        "class Student:\n",
        "    def __init__(self,roll,name,age):\n",
        "        self.roll = roll\n",
        "        self.name = name\n",
        "        self.age = age\n",
        " \n",
        "    def details(self):\n",
        "        print(\"Student Roll:\",  self.roll)\n",
        "        print(\"Student Name:\",  self.name)\n",
        "        print(\"Student Age:\", self.age)\n",
        " \n",
        " \n",
        "stu = Student(69,\"Solomon\", 18)\n",
        "stu.details()\n",
        " "
      ],
      "execution_count": 81,
      "outputs": [
        {
          "output_type": "stream",
          "text": [
            "Student Roll: 69\n",
            "Student Name: Solomon\n",
            "Student Age: 18\n"
          ],
          "name": "stdout"
        }
      ]
    },
    {
      "cell_type": "markdown",
      "metadata": {
        "id": "JVEsVEDUvzXS",
        "colab_type": "text"
      },
      "source": [
        "##*Private Attributes/Variables :*\n",
        "\n",
        "* The attributes/variables which starts with two underscores are called private attributes.\n",
        "* Such variables cannot be called directly from outside their class \n",
        "\n",
        "They can be accessed using, \n",
        "\n",
        "```\n",
        "instance_name._\n",
        "classname_Private Attributes\n",
        "```\n"
      ]
    },
    {
      "cell_type": "code",
      "metadata": {
        "id": "yvS7Jqi5rxWC",
        "colab_type": "code",
        "colab": {
          "base_uri": "https://localhost:8080/",
          "height": 51
        },
        "outputId": "82a11b56-6555-4d7c-d55f-4aa0a886ec96"
      },
      "source": [
        "# Program to use Private Variables\n",
        "class abc:\n",
        "    y = 69\n",
        "    __var = \"Solomon\"  # Private variable\n",
        "    def show(self):\n",
        "        print(\"AIML\")\n",
        "        \n",
        "\n",
        "s = abc()\n",
        "print(s.y)\n",
        "s.show()\n",
        "print(s.__v) # Since this variable cannot be accessed, it gives an error"
      ],
      "execution_count": 77,
      "outputs": [
        {
          "output_type": "stream",
          "text": [
            "69\n",
            "AIML\n"
          ],
          "name": "stdout"
        }
      ]
    },
    {
      "cell_type": "markdown",
      "metadata": {
        "id": "5Ki2G-Eq4vF5",
        "colab_type": "text"
      },
      "source": [
        "## *Destroying Objects (Garbage Collection) :*\n",
        "\n",
        "* It is used when you want to destroy an instance of the class which is no longer referenced."
      ]
    },
    {
      "cell_type": "code",
      "metadata": {
        "id": "ShMHuIBH5Wnd",
        "colab_type": "code",
        "colab": {
          "base_uri": "https://localhost:8080/",
          "height": 51
        },
        "outputId": "39b6e36c-f415-4103-8a5c-b3b4f5c38eb5"
      },
      "source": [
        "# Program to delete object of a class.\n",
        "class abc:\n",
        "    def __init__(self,n): #Parameterized constructor\n",
        "        print(\"Hello \",n)\n",
        "    def __del__(self):\n",
        "        print(\"Object deleted\")\n",
        "\n",
        "s1=abc(\"Solomon\")\n",
        "s2=abc(\"Python\")"
      ],
      "execution_count": 80,
      "outputs": [
        {
          "output_type": "stream",
          "text": [
            "Hello  Solomon\n",
            "Hello  Python\n"
          ],
          "name": "stdout"
        }
      ]
    },
    {
      "cell_type": "markdown",
      "metadata": {
        "id": "yfVgiozgylET",
        "colab_type": "text"
      },
      "source": [
        "## *Instances as Arguments and Return Values :*\n",
        "\n",
        "* The class instance variables are always prefixed with reserved word 'self' and typically initialized in a constructor method named init\n",
        "\n",
        "* In Python, methods and functions can return class instances."
      ]
    },
    {
      "cell_type": "code",
      "metadata": {
        "id": "CwbZgvGvyKdJ",
        "colab_type": "code",
        "colab": {
          "base_uri": "https://localhost:8080/",
          "height": 102
        },
        "outputId": "60ed649f-7881-45cd-88a5-5303f2059476"
      },
      "source": [
        "# As an Argument\n",
        "class xyz:\n",
        "    def __init__(self):\n",
        "        print(\"Stop\")\n",
        "        print(\"Ready\")\n",
        "        print(\"GO\")\n",
        "    def show(self):\n",
        "        print(\"This is a course for :\")\n",
        "        print(\"AI & ML\")\n",
        "\n",
        "s = xyz()\n",
        "s.show()"
      ],
      "execution_count": 72,
      "outputs": [
        {
          "output_type": "stream",
          "text": [
            "Stop\n",
            "Ready\n",
            "GO\n",
            "This is a course for :\n",
            "AI & ML\n"
          ],
          "name": "stdout"
        }
      ]
    },
    {
      "cell_type": "code",
      "metadata": {
        "id": "g-k0sNPe0kLC",
        "colab_type": "code",
        "colab": {
          "base_uri": "https://localhost:8080/",
          "height": 34
        },
        "outputId": "c8f4926d-21e2-4783-e76b-d6a7293c172c"
      },
      "source": [
        "# As a Return Value\n",
        "class st:\n",
        "    def add(self,a,b):\n",
        "        self.a=a\n",
        "        self.b=b\n",
        "        return self.a+self.b\n",
        "\n",
        "s=st()\n",
        "s.add(4,3)"
      ],
      "execution_count": 73,
      "outputs": [
        {
          "output_type": "execute_result",
          "data": {
            "text/plain": [
              "7"
            ]
          },
          "metadata": {
            "tags": []
          },
          "execution_count": 73
        }
      ]
    },
    {
      "cell_type": "code",
      "metadata": {
        "id": "mCkDMqHa0_-3",
        "colab_type": "code",
        "colab": {
          "base_uri": "https://localhost:8080/",
          "height": 68
        },
        "outputId": "5330a8e5-3978-454d-85c5-873a6a33c995"
      },
      "source": [
        "# Return Values using __init__\n",
        "class st:\n",
        "    def __init__(self,a,b):\n",
        "        self.a=a\n",
        "        self.b=b\n",
        "\n",
        "s=st(4,3)\n",
        "print(s.a)\n",
        "print(s.b)\n",
        "print(s.a*s.b)"
      ],
      "execution_count": 76,
      "outputs": [
        {
          "output_type": "stream",
          "text": [
            "4\n",
            "3\n",
            "12\n"
          ],
          "name": "stdout"
        }
      ]
    },
    {
      "cell_type": "markdown",
      "metadata": {
        "id": "0HiogvE21n9r",
        "colab_type": "text"
      },
      "source": [
        "## *Polymorphism :*\n",
        "\n",
        "* Polymorphism is the ablity of an object or reference to take many different forms at different instances.\n",
        "* It is the ability to use an operator or a function in various forms \n",
        "* For Example, operator overloading, function overloading, etc."
      ]
    },
    {
      "cell_type": "code",
      "metadata": {
        "id": "avFvVIEH1PPl",
        "colab_type": "code",
        "colab": {
          "base_uri": "https://localhost:8080/",
          "height": 85
        },
        "outputId": "5c23010b-76f4-45eb-d412-6fcdd8a196a4"
      },
      "source": [
        "# Program to use Polymorphism\n",
        "def show(s):\n",
        "    print(\"s= \",s)\n",
        "\n",
        "show(6902)\n",
        "show(\"Solomon\")\n",
        "show(3.14)\n",
        "show(complex(2,4))"
      ],
      "execution_count": 79,
      "outputs": [
        {
          "output_type": "stream",
          "text": [
            "s=  6902\n",
            "s=  Solomon\n",
            "s=  3.14\n",
            "s=  (2+4j)\n"
          ],
          "name": "stdout"
        }
      ]
    }
  ]
}