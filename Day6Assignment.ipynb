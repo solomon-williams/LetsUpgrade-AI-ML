{
  "nbformat": 4,
  "nbformat_minor": 0,
  "metadata": {
    "colab": {
      "name": "Day6Assignment.ipynb",
      "provenance": [],
      "authorship_tag": "ABX9TyMy+W79Z2lcliez50v1AYet",
      "include_colab_link": true
    },
    "kernelspec": {
      "name": "python3",
      "display_name": "Python 3"
    }
  },
  "cells": [
    {
      "cell_type": "markdown",
      "metadata": {
        "id": "view-in-github",
        "colab_type": "text"
      },
      "source": [
        "<a href=\"https://colab.research.google.com/github/solomon-williams/LetsUpgrade-AI-ML/blob/master/Day6Assignment.ipynb\" target=\"_parent\"><img src=\"https://colab.research.google.com/assets/colab-badge.svg\" alt=\"Open In Colab\"/></a>"
      ]
    },
    {
      "cell_type": "markdown",
      "metadata": {
        "id": "M2Rb0sdX-22c",
        "colab_type": "text"
      },
      "source": [
        "**Assuming that we have some email addresses in the \"username@companyname.com\" format, please write a program to print the company name of a given email address. Both user names and company names are composed of letters only.**"
      ]
    },
    {
      "cell_type": "code",
      "metadata": {
        "id": "o0tsjDU3e3xa",
        "colab_type": "code",
        "colab": {
          "base_uri": "https://localhost:8080/",
          "height": 51
        },
        "outputId": "142feead-61b8-458d-96f2-478a920ea194"
      },
      "source": [
        "# Input Email\n",
        "email = input()\n",
        "\n",
        "# Split everything after \"@\"\n",
        "companyname = email.split('@')[1] \n",
        "\n",
        "# Split everything before \".com\"\n",
        "x = companyname.split('.com')[0]\n",
        "\n",
        "print(x)\n"
      ],
      "execution_count": 71,
      "outputs": [
        {
          "output_type": "stream",
          "text": [
            "solomon@google.com\n",
            "google\n"
          ],
          "name": "stdout"
        }
      ]
    },
    {
      "cell_type": "markdown",
      "metadata": {
        "id": "R7TF9JiMoXFJ",
        "colab_type": "text"
      },
      "source": [
        "**Write a program that accepts a comma-separated sequence of words as input and prints the words in a comma-separated sequence after sorting them alphabetically.**"
      ]
    },
    {
      "cell_type": "code",
      "metadata": {
        "id": "nCm3d87Ho881",
        "colab_type": "code",
        "colab": {
          "base_uri": "https://localhost:8080/",
          "height": 51
        },
        "outputId": "f69769fe-04e2-4e4a-bdb2-4250c440a1f6"
      },
      "source": [
        "# Split the entered words at ','\n",
        "items=[x for x in input(\"Enter words to sort : \").split(',')]\n",
        "\n",
        "# Sort alphabetically using sort function\n",
        "items.sort()\n",
        "\n",
        "# Print the sorted words\n",
        "print (\"The sorted words are : \" , ','.join(items))\n",
        " "
      ],
      "execution_count": 73,
      "outputs": [
        {
          "output_type": "stream",
          "text": [
            "Enter words to sort : Cat,Fetch,Phone,Apple,Ball\n",
            "The sorted words are :  Apple,Ball,Cat,Fetch,Phone\n"
          ],
          "name": "stdout"
        }
      ]
    },
    {
      "cell_type": "markdown",
      "metadata": {
        "id": "hGZytdnQr5m5",
        "colab_type": "text"
      },
      "source": [
        "**Create your own Jupyter Notebook for Sets.**"
      ]
    },
    {
      "cell_type": "markdown",
      "metadata": {
        "id": "xeEJX2qtgHrG",
        "colab_type": "text"
      },
      "source": [
        "#**Sets in Python :**\n",
        "\n",
        "##A Set is basically a Data Structure consisting of ,\n",
        "\n",
        "\n",
        "*   Unordered Elements\n",
        "\n",
        "*   Unique Elements\n",
        "*   Unindexed Elements\n",
        "\n",
        "###We Can use two methods to create Sets, \n",
        "\n",
        "\n",
        "\n",
        "*   Using curly brackets { }\n",
        "*   Using Set Constructor\n",
        "\n",
        "*For example :*\n",
        "\n",
        "\n",
        "```\n",
        "a = {1,2.0,'Solomon'}\n",
        "b = set([1,3.14,Python])\n",
        "```"
      ]
    },
    {
      "cell_type": "code",
      "metadata": {
        "id": "Ep39t4DRk5mm",
        "colab_type": "code",
        "colab": {
          "base_uri": "https://localhost:8080/",
          "height": 221
        },
        "outputId": "1d598a9c-e19b-4899-8e33-4dc9ccf1dede"
      },
      "source": [
        "# We can use Sets in the following ways, \n",
        "\n",
        "elements = {1,3.14,'Solomon'} \n",
        "\n",
        "print(elements) # Print/Preview elements in Set\n",
        "print('Solomon' in elements) #bool\n",
        "\n",
        "elements.add('Python') # Add items\n",
        "print(elements)\n",
        "\n",
        "elements.update([69,\"Machine Learning\"]) # Adds Multiple items\n",
        "print(elements)\n",
        "\n",
        "print(len(elements)) # Length of the Set\n",
        "\n",
        "elements.remove(69) # Removes items\n",
        "print(elements)\n",
        "\n",
        "x = elements.pop() # Removes the last item\n",
        "print(x)\n",
        "print(elements)\n",
        "\n",
        "elements.clear() # Empties the Set\n",
        "print(elements)\n",
        "\n",
        "# New Sets\n",
        "set1 = {34,4.9,\"AI\"}\n",
        "set2 = {68,2.7,\"ML\"}\n",
        "\n",
        "set3 = set1.union(set2) # Union of two Sets\n",
        "print(set3)\n",
        "\n",
        "set1.update(set2) # Inserts items form one set to another\n",
        "print(set1)\n",
        "\n",
        "# Set Constructor\n",
        "\n",
        "abc = set((\"Apple\",\"Ball\",\"Cat\"))\n",
        "print(abc)"
      ],
      "execution_count": 81,
      "outputs": [
        {
          "output_type": "stream",
          "text": [
            "{1, 3.14, 'Solomon'}\n",
            "True\n",
            "{'Python', 1, 3.14, 'Solomon'}\n",
            "{'Python', 1, 3.14, 69, 'Solomon', 'Machine Learning'}\n",
            "6\n",
            "{'Python', 1, 3.14, 'Solomon', 'Machine Learning'}\n",
            "Python\n",
            "{1, 3.14, 'Solomon', 'Machine Learning'}\n",
            "set()\n",
            "{34, 'ML', 4.9, 2.7, 68, 'AI'}\n",
            "{34, 'ML', 4.9, 2.7, 68, 'AI'}\n",
            "{'Cat', 'Apple', 'Ball'}\n"
          ],
          "name": "stdout"
        }
      ]
    },
    {
      "cell_type": "markdown",
      "metadata": {
        "id": "dbwl3nItrXL3",
        "colab_type": "text"
      },
      "source": [
        "**Given a list of n-1 numbers ranging from 1 to n, your task is to find the missing number. There are no duplicates.**"
      ]
    },
    {
      "cell_type": "code",
      "metadata": {
        "id": "ZDOIoqvmrhOW",
        "colab_type": "code",
        "colab": {
          "base_uri": "https://localhost:8080/",
          "height": 34
        },
        "outputId": "1e0a6ac1-1fc9-4753-e337-8d59c7ffc4e9"
      },
      "source": [
        "# Define the function to find the missing number upto an infinite range\n",
        "def missing(List): \n",
        "    return [x for x in range(List[0], List[-1]+1)  \n",
        "                               if x not in List]  # Checks if the number is present in the list\n",
        "  \n",
        "List = [1, 2, 4, 6, 9, 10] \n",
        "print(missing(List)) \n"
      ],
      "execution_count": 93,
      "outputs": [
        {
          "output_type": "stream",
          "text": [
            "[3, 5, 7, 8]\n"
          ],
          "name": "stdout"
        }
      ]
    },
    {
      "cell_type": "markdown",
      "metadata": {
        "id": "iRMM_Manub-_",
        "colab_type": "text"
      },
      "source": [
        "**With a given list L, write a program to print this list L after removing all duplicate values with original order\n",
        "reserved.**"
      ]
    },
    {
      "cell_type": "code",
      "metadata": {
        "id": "ucJg1aPesr7T",
        "colab_type": "code",
        "colab": {
          "base_uri": "https://localhost:8080/",
          "height": 51
        },
        "outputId": "8d87bc0b-2de3-4b50-8ee0-7f6f2aad1331"
      },
      "source": [
        "list1 = [12,24,35,24]\n",
        "print(\"Original List : \", list1)\n",
        "\n",
        "list2 = []\n",
        "\n",
        "for i in list1:\n",
        "    if i not in list2:\n",
        "        list2.append(i)\n",
        "\n",
        "print(\"New List : \", list2)"
      ],
      "execution_count": 92,
      "outputs": [
        {
          "output_type": "stream",
          "text": [
            "Original List :  [12, 24, 35, 24]\n",
            "New List :  [12, 24, 35]\n"
          ],
          "name": "stdout"
        }
      ]
    }
  ]
}