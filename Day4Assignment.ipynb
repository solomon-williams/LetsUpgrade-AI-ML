{
  "nbformat": 4,
  "nbformat_minor": 0,
  "metadata": {
    "colab": {
      "name": "Day4Assignment.ipynb",
      "provenance": [],
      "authorship_tag": "ABX9TyOGUVTjxCOcZrmgxHIQfiHH",
      "include_colab_link": true
    },
    "kernelspec": {
      "name": "python3",
      "display_name": "Python 3"
    }
  },
  "cells": [
    {
      "cell_type": "markdown",
      "metadata": {
        "id": "view-in-github",
        "colab_type": "text"
      },
      "source": [
        "<a href=\"https://colab.research.google.com/github/solomon-williams/LetsUpgrade-AI-ML/blob/master/Day4Assignment.ipynb\" target=\"_parent\"><img src=\"https://colab.research.google.com/assets/colab-badge.svg\" alt=\"Open In Colab\"/></a>"
      ]
    },
    {
      "cell_type": "markdown",
      "metadata": {
        "id": "xj20dyRe2yYe",
        "colab_type": "text"
      },
      "source": [
        "**Addition, subtraction, multiplication, division, floor division, and modulo operations on complex numbers.**"
      ]
    },
    {
      "cell_type": "code",
      "metadata": {
        "id": "N5KTahLJ0Sl7",
        "colab_type": "code",
        "colab": {
          "base_uri": "https://localhost:8080/",
          "height": 119
        },
        "outputId": "1765d86d-a77e-4307-f1fb-d082f990a6e0"
      },
      "source": [
        "# Complex Numbers\n",
        "complex1 = 2 + 3j\n",
        "complex2 = 4 + 5j\n",
        "\n",
        "# Addition \n",
        "sum = complex1 + complex2\n",
        "print(sum)\n",
        "\n",
        "# Subtraction\n",
        "sub = complex1 - complex2\n",
        "print(sub)\n",
        "\n",
        "# Multiplication\n",
        "product = complex1 * complex2\n",
        "print(product)\n",
        "\n",
        "# Division\n",
        "div = complex1 / complex2\n",
        "print(div)\n",
        "\n",
        "# Floor Division\n",
        "fdiv = \"Can't take floor of complex number\"\n",
        "print(fdiv)\n",
        "\n",
        "# Modulo\n",
        "mod = \"Can't mod complex numbers\"\n",
        "print(mod)"
      ],
      "execution_count": null,
      "outputs": [
        {
          "output_type": "stream",
          "text": [
            "(6+8j)\n",
            "(-2-2j)\n",
            "(-7+22j)\n",
            "(0.5609756097560976+0.0487804878048781j)\n",
            "Can't take floor of complex number\n",
            "Can't mod complex numbers\n"
          ],
          "name": "stdout"
        }
      ]
    },
    {
      "cell_type": "markdown",
      "metadata": {
        "id": "HO2DvROLVox8",
        "colab_type": "text"
      },
      "source": [
        "# **Range function :**\n",
        "\n",
        "range() is an in-build function in python which is used to generate a sequence of numbers. It is used to perform tasks by the user for a specific number of times.\n",
        "\n",
        "**There are three range parameters in python :**\n",
        "\n",
        "\n",
        "\n",
        "1.   range(start) (takes one argument)\n",
        "2.   range(stop)  (takes two arguments)\n",
        "3.   range(step)  (takes three arguments)\n",
        "\n",
        "\n",
        "\n"
      ]
    },
    {
      "cell_type": "code",
      "metadata": {
        "id": "s3iD3RN0plyv",
        "colab_type": "code",
        "colab": {
          "base_uri": "https://localhost:8080/",
          "height": 187
        },
        "outputId": "549d6734-c98a-42cf-f228-5781f8571a03"
      },
      "source": [
        "# Start ; One Argument\n",
        "x = range(10)\n",
        "for n in x:\n",
        "  print(n)"
      ],
      "execution_count": 33,
      "outputs": [
        {
          "output_type": "stream",
          "text": [
            "0\n",
            "1\n",
            "2\n",
            "3\n",
            "4\n",
            "5\n",
            "6\n",
            "7\n",
            "8\n",
            "9\n"
          ],
          "name": "stdout"
        }
      ]
    },
    {
      "cell_type": "code",
      "metadata": {
        "id": "JTUUIs8aJ8ZT",
        "colab_type": "code",
        "colab": {
          "base_uri": "https://localhost:8080/",
          "height": 85
        },
        "outputId": "4af52391-4032-4e75-9c8e-0ee96ca0d572"
      },
      "source": [
        "# Stop ; Two Arguments\n",
        "x = range(3,7)\n",
        "for n in x:\n",
        "  print(n)"
      ],
      "execution_count": 36,
      "outputs": [
        {
          "output_type": "stream",
          "text": [
            "3\n",
            "4\n",
            "5\n",
            "6\n"
          ],
          "name": "stdout"
        }
      ]
    },
    {
      "cell_type": "code",
      "metadata": {
        "id": "DNz1ssV1KbHX",
        "colab_type": "code",
        "colab": {
          "base_uri": "https://localhost:8080/",
          "height": 68
        },
        "outputId": "72fd65ef-1ed4-4364-d4d2-15eba4d2d909"
      },
      "source": [
        "# Step ; Three Arguments\n",
        "x = range(4,12,3)\n",
        "for n in x:\n",
        "  print(n)"
      ],
      "execution_count": 37,
      "outputs": [
        {
          "output_type": "stream",
          "text": [
            "4\n",
            "7\n",
            "10\n"
          ],
          "name": "stdout"
        }
      ]
    },
    {
      "cell_type": "markdown",
      "metadata": {
        "id": "FLomftOqLAor",
        "colab_type": "text"
      },
      "source": [
        "**Consider two numbers. Perform their subtraction and if the result of subtraction is greater than 25, print\n",
        "their multiplication result else print their division result.**"
      ]
    },
    {
      "cell_type": "code",
      "metadata": {
        "id": "zCkoZdxlNPn1",
        "colab_type": "code",
        "colab": {
          "base_uri": "https://localhost:8080/",
          "height": 34
        },
        "outputId": "8dd273f0-74f7-48d2-9943-a708885f2d1f"
      },
      "source": [
        "# Consider two numbers\n",
        "num1 = 46\n",
        "num2 = 83\n",
        "\n",
        "# If and else operation\n",
        "if (num1 - num2) > 25:\n",
        "  print(num1*num2)\n",
        "else:\n",
        "  print(num1/num2)"
      ],
      "execution_count": 40,
      "outputs": [
        {
          "output_type": "stream",
          "text": [
            "0.5542168674698795\n"
          ],
          "name": "stdout"
        }
      ]
    },
    {
      "cell_type": "markdown",
      "metadata": {
        "id": "7tqh1Hi0OVME",
        "colab_type": "text"
      },
      "source": [
        "**Consider a list of 10 elements of integer values. If the number in the list is divisible by 2, print the result as\n",
        "\"square of that number minus 2\".**"
      ]
    },
    {
      "cell_type": "code",
      "metadata": {
        "id": "zZBoV9ABN1iX",
        "colab_type": "code",
        "colab": {
          "base_uri": "https://localhost:8080/",
          "height": 102
        },
        "outputId": "7be6f8ce-072a-4ffd-9de5-db773e1032cc"
      },
      "source": [
        "n = range(1,11)\n",
        "for i in n:\n",
        "  if (i%2==0):\n",
        "    print(i**2-2)"
      ],
      "execution_count": 67,
      "outputs": [
        {
          "output_type": "stream",
          "text": [
            "2\n",
            "14\n",
            "34\n",
            "62\n",
            "98\n"
          ],
          "name": "stdout"
        }
      ]
    },
    {
      "cell_type": "markdown",
      "metadata": {
        "id": "1S1EBi8SVUOv",
        "colab_type": "text"
      },
      "source": [
        "**Consider a list of 10 elements. Print all the elements in the list which are greater than 7 when that number\n",
        "is divided 2.**"
      ]
    },
    {
      "cell_type": "code",
      "metadata": {
        "id": "Q17-1yrlVXIe",
        "colab_type": "code",
        "colab": {
          "base_uri": "https://localhost:8080/",
          "height": 119
        },
        "outputId": "c6612eaf-bf29-4e76-d61d-38b23eb18f62"
      },
      "source": [
        "n = range(10,21)\n",
        "for i in n:\n",
        "  if (i/2 > 7):\n",
        "    print(i)"
      ],
      "execution_count": 72,
      "outputs": [
        {
          "output_type": "stream",
          "text": [
            "15\n",
            "16\n",
            "17\n",
            "18\n",
            "19\n",
            "20\n"
          ],
          "name": "stdout"
        }
      ]
    }
  ]
}