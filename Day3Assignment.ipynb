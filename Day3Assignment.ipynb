{
  "nbformat": 4,
  "nbformat_minor": 0,
  "metadata": {
    "colab": {
      "name": "Day3Assignment.ipynb",
      "provenance": [],
      "collapsed_sections": [],
      "authorship_tag": "ABX9TyO7o9BR96+1is7VgGVHqf5V",
      "include_colab_link": true
    },
    "kernelspec": {
      "name": "python3",
      "display_name": "Python 3"
    }
  },
  "cells": [
    {
      "cell_type": "markdown",
      "metadata": {
        "id": "view-in-github",
        "colab_type": "text"
      },
      "source": [
        "<a href=\"https://colab.research.google.com/github/solomon-williams/LetsUpgrade-AI-ML/blob/master/Day3Assignment.ipynb\" target=\"_parent\"><img src=\"https://colab.research.google.com/assets/colab-badge.svg\" alt=\"Open In Colab\"/></a>"
      ]
    },
    {
      "cell_type": "markdown",
      "metadata": {
        "id": "CLrMFgo0py9R",
        "colab_type": "text"
      },
      "source": [
        "**Program to subtract two complex numbers in Python.**"
      ]
    },
    {
      "cell_type": "code",
      "metadata": {
        "id": "p2zVie5HP3eE",
        "colab_type": "code",
        "colab": {
          "base_uri": "https://localhost:8080/",
          "height": 68
        },
        "outputId": "75d4b7b4-03e3-4d48-c8e4-e35d4311c115"
      },
      "source": [
        "# Input Complex Numbers\n",
        "complex1 = input('Enter first number : ')\n",
        "complex2 = input('Enter second number : ')\n",
        " \n",
        " # Subtraction of complex Numbers\n",
        "sub = complex(complex1) - complex(complex2)\n",
        " \n",
        "print('The subtraction of {0} and {1} is: {2}'.format(complex1, complex2, sub))"
      ],
      "execution_count": 64,
      "outputs": [
        {
          "output_type": "stream",
          "text": [
            "Enter first number : 2-7j\n",
            "Enter second number : 4-7j\n",
            "The subtraction of 2-7j and 4-7j is: (-2+0j)\n"
          ],
          "name": "stdout"
        }
      ]
    },
    {
      "cell_type": "markdown",
      "metadata": {
        "id": "WRyb5aSpprFB",
        "colab_type": "text"
      },
      "source": [
        "**Program to find the fourth root of a number.**"
      ]
    },
    {
      "cell_type": "code",
      "metadata": {
        "id": "GNTo2ULrQ1Nc",
        "colab_type": "code",
        "colab": {
          "base_uri": "https://localhost:8080/",
          "height": 51
        },
        "outputId": "8a2160be-945b-47eb-d99b-27dfae6dcb22"
      },
      "source": [
        "# Input Value\n",
        "root = int(input(\"Enter a number : \"))\n",
        "\n",
        "# Operating var_root to 4th root exponent\n",
        "value = root**0.25\n",
        "\n",
        "print(\"4th root of the number is : \" , value)\n"
      ],
      "execution_count": 65,
      "outputs": [
        {
          "output_type": "stream",
          "text": [
            "Enter a number : 56\n",
            "4th root of the number is :  2.7355647997347607\n"
          ],
          "name": "stdout"
        }
      ]
    },
    {
      "cell_type": "markdown",
      "metadata": {
        "id": "0jOFvfl5pdNS",
        "colab_type": "text"
      },
      "source": [
        "**Program to swap two numbers in Python with the help of a temporary variable.**"
      ]
    },
    {
      "cell_type": "code",
      "metadata": {
        "id": "PnPajA-7cubP",
        "colab_type": "code",
        "colab": {
          "base_uri": "https://localhost:8080/",
          "height": 85
        },
        "outputId": "e34585cd-dfc3-47bd-cc28-d13944df5e85"
      },
      "source": [
        "# To take inputs from the user\n",
        "x = int(input(\"x = \"))\n",
        "y = int(input(\"y = \"))\n",
        "\n",
        "# create a temporary variable and swap the values\n",
        "temp = x\n",
        "x = y\n",
        "y = temp\n",
        "\n",
        "print('The value of x after swapping: ', x)\n",
        "print('The value of y after swapping: ', y)"
      ],
      "execution_count": 66,
      "outputs": [
        {
          "output_type": "stream",
          "text": [
            "x = 3\n",
            "y = 4\n",
            "The value of x after swapping:  4\n",
            "The value of y after swapping:  3\n"
          ],
          "name": "stdout"
        }
      ]
    },
    {
      "cell_type": "markdown",
      "metadata": {
        "id": "hLlnIutypTBb",
        "colab_type": "text"
      },
      "source": [
        "**Program to swap two numbers in Python without using a temporary variable.**"
      ]
    },
    {
      "cell_type": "code",
      "metadata": {
        "id": "WHW6UZKydWeT",
        "colab_type": "code",
        "colab": {
          "base_uri": "https://localhost:8080/",
          "height": 85
        },
        "outputId": "231fa1a2-026e-419e-f46a-9d0c58d8ee9c"
      },
      "source": [
        "# To take inputs from the user\n",
        "x = int(input(\"x = \"))\n",
        "y = int(input(\"y = \"))\n",
        "\n",
        "# Operation to swap variables\n",
        "x, y = y, x\n",
        "\n",
        "print('The value of x after swapping: ', x)\n",
        "print('The value of y after swapping: ', y)"
      ],
      "execution_count": 67,
      "outputs": [
        {
          "output_type": "stream",
          "text": [
            "x = 8\n",
            "y = 4\n",
            "The value of x after swapping:  4\n",
            "The value of y after swapping:  8\n"
          ],
          "name": "stdout"
        }
      ]
    },
    {
      "cell_type": "markdown",
      "metadata": {
        "id": "hDdZ6nS5pB5a",
        "colab_type": "text"
      },
      "source": [
        "**Program to convert Fahrenheit to kelvin and celsius.**"
      ]
    },
    {
      "cell_type": "code",
      "metadata": {
        "id": "tpf9GJ2gWcVQ",
        "colab_type": "code",
        "colab": {
          "base_uri": "https://localhost:8080/",
          "height": 68
        },
        "outputId": "413d4281-f61b-44fd-8c1a-eac83aaa5316"
      },
      "source": [
        "# Input temp in Farenheit\n",
        "farenheit = int(input(\"Enter Value : \"))\n",
        "\n",
        "# temp in Celsius \n",
        "celsius = (farenheit - 32)*(5/9)\n",
        "print(\"Celsius :\",celsius)\n",
        "\n",
        "# temp in kelvin\n",
        "kelvin  = (farenheit - 32)*(5/9) + 273.15\n",
        "print(\"Kelvin :\" , kelvin)"
      ],
      "execution_count": 68,
      "outputs": [
        {
          "output_type": "stream",
          "text": [
            "Enter Value : 32\n",
            "Celsius : 0.0\n",
            "Kelvin : 273.15\n"
          ],
          "name": "stdout"
        }
      ]
    },
    {
      "cell_type": "markdown",
      "metadata": {
        "id": "-FSfM1Rwozo8",
        "colab_type": "text"
      },
      "source": [
        "**To demonstrate all the available data types in Python.**"
      ]
    },
    {
      "cell_type": "code",
      "metadata": {
        "id": "RRXZzxxafrlv",
        "colab_type": "code",
        "colab": {
          "base_uri": "https://localhost:8080/",
          "height": 187
        },
        "outputId": "c94cd944-72f0-486b-a7d6-3b6778e7a0b2"
      },
      "source": [
        "# To demonstrate all data types\n",
        "\n",
        "# Numeric Type\n",
        "int ()\n",
        "float () \n",
        "complex ()\n",
        "# Examples\n",
        "print(type (3))\n",
        "print(type (3.14))\n",
        "print(type (2+24j))\n",
        "\n",
        "# Sequence Type\n",
        "str ()\n",
        "list ()\n",
        "tuple ()\n",
        "# Examples\n",
        "print(type (\"String\"))\n",
        "\n",
        "X = [\"Apple\", \"Ball\", \"Cat\"]\n",
        "print(type (X))\n",
        "\n",
        "Y = (\"Apple\", \"Ball\", \"Cat\")\n",
        "print(type (Y))\n",
        "\n",
        "# Boolean Type\n",
        "print(bool(1<2))\n",
        "\n",
        "print(bool(1>2))\n",
        "\n",
        "# Set Type\n",
        "Set = {\"Apple\", \"Ball\", \"Cat\"}\n",
        "print(type(Set))\n",
        "\n",
        "# Dictonary Type \n",
        "Dict = {\"Name\" : \"Solomon\", \"Age\" : 18}\n",
        "print(type (Dict))"
      ],
      "execution_count": 69,
      "outputs": [
        {
          "output_type": "stream",
          "text": [
            "<class 'int'>\n",
            "<class 'float'>\n",
            "<class 'complex'>\n",
            "<class 'str'>\n",
            "<class 'list'>\n",
            "<class 'tuple'>\n",
            "True\n",
            "False\n",
            "<class 'set'>\n",
            "<class 'dict'>\n"
          ],
          "name": "stdout"
        }
      ]
    }
  ]
}