{
  "nbformat": 4,
  "nbformat_minor": 0,
  "metadata": {
    "colab": {
      "name": "Day5Assingment.ipynb",
      "provenance": [],
      "authorship_tag": "ABX9TyMK+59jnT+Yi6s/VJiPZjb7",
      "include_colab_link": true
    },
    "kernelspec": {
      "name": "python3",
      "display_name": "Python 3"
    }
  },
  "cells": [
    {
      "cell_type": "markdown",
      "metadata": {
        "id": "view-in-github",
        "colab_type": "text"
      },
      "source": [
        "<a href=\"https://colab.research.google.com/github/solomon-williams/LetsUpgrade-AI-ML/blob/master/Day5Assingment.ipynb\" target=\"_parent\"><img src=\"https://colab.research.google.com/assets/colab-badge.svg\" alt=\"Open In Colab\"/></a>"
      ]
    },
    {
      "cell_type": "markdown",
      "metadata": {
        "id": "Xi2DBRfi5588",
        "colab_type": "text"
      },
      "source": [
        "**Write a Python program to find the first 20 non-even prime natural numbers.**"
      ]
    },
    {
      "cell_type": "code",
      "metadata": {
        "id": "BlrOMhKmX85I",
        "colab_type": "code",
        "colab": {
          "base_uri": "https://localhost:8080/",
          "height": 340
        },
        "outputId": "c1d0ec06-fc82-44a2-f5f7-efa4c736aaa1"
      },
      "source": [
        "number = 71\n",
        "for num in range(3,number + 1):\n",
        "       if num > 1:\n",
        "            for i in range(2,num):\n",
        "                if (num % i) == 0:\n",
        "                     break\n",
        "            else:\n",
        "                print(num)"
      ],
      "execution_count": 11,
      "outputs": [
        {
          "output_type": "stream",
          "text": [
            "3\n",
            "5\n",
            "7\n",
            "11\n",
            "13\n",
            "17\n",
            "19\n",
            "23\n",
            "29\n",
            "31\n",
            "37\n",
            "41\n",
            "43\n",
            "47\n",
            "53\n",
            "59\n",
            "61\n",
            "67\n",
            "71\n"
          ],
          "name": "stdout"
        }
      ]
    },
    {
      "cell_type": "markdown",
      "metadata": {
        "id": "AcoqAsS_6CHq",
        "colab_type": "text"
      },
      "source": [
        "**Write a Python program to implement 15 functions of string.**"
      ]
    },
    {
      "cell_type": "code",
      "metadata": {
        "id": "TCYbn2rO30-t",
        "colab_type": "code",
        "colab": {
          "base_uri": "https://localhost:8080/",
          "height": 238
        },
        "outputId": "b57fa058-da6b-4c5d-e7b7-36200ef1da05"
      },
      "source": [
        "#Concatenation\n",
        "var1 = 'Lets'\n",
        "var2 = 'Upgrade'\n",
        "print (var1+var2)\n",
        "\n",
        "#Repetition\n",
        "var1 = 'LetsUpgrade'\n",
        "print (var1*3)\n",
        "\n",
        "#Slicing\n",
        "var1 = 'LetsUpgrade'\n",
        "print (var1[2])\n",
        "\n",
        "#Range Slicing \n",
        "var1 = 'LetsUpgrade'\n",
        "print (var1[2:5])\n",
        "\n",
        "#Membership\n",
        "var1 = 'LetsUpgrade'\n",
        "print ('n' in var1)\n",
        "\n",
        "#Membership\n",
        "var1 = 'LetsUpgrade'\n",
        "print ('N' not in var1)\n",
        "\n",
        "#Iterating\n",
        "for var in var1: print (var, end =\"\")\n",
        "\n",
        "#Raw String\n",
        "print (r'\\n')\n",
        "print (R'\\n')\n",
        "\n",
        "#capitalize\n",
        "var = 'LETSUPGRADE'\n",
        "print (var.capitalize())\n",
        "\n",
        "#Lower\n",
        "var = 'LetsUpgrade'\n",
        "print (var.lower())\n",
        "\n",
        "#Upper\n",
        "var = 'LetsUpgrade'\n",
        "print (var.upper())\n",
        "\n",
        "#swapcase\n",
        "var = 'LetsUpgrade'\n",
        "print (var.swapcase())\n",
        "\n",
        "#title\n",
        "var = 'LetsUpgrade'\n",
        "print (var.title())\n"
      ],
      "execution_count": 17,
      "outputs": [
        {
          "output_type": "stream",
          "text": [
            "LetsUpgrade\n",
            "LetsUpgradeLetsUpgradeLetsUpgrade\n",
            "t\n",
            "tsU\n",
            "False\n",
            "True\n",
            "LetsUpgrade\\n\n",
            "\\n\n",
            "Letsupgrade\n",
            "letsupgrade\n",
            "LETSUPGRADE\n",
            "lETSuPGRADE\n",
            "Letsupgrade\n"
          ],
          "name": "stdout"
        }
      ]
    },
    {
      "cell_type": "markdown",
      "metadata": {
        "id": "nYY5wq5TE-sP",
        "colab_type": "text"
      },
      "source": [
        "**Write a Python program to check if the given string is a Palindrome or Anagram or None of them. Display\n",
        "the message accordingly to the user.**"
      ]
    },
    {
      "cell_type": "code",
      "metadata": {
        "id": "IHad0Kc_DcZO",
        "colab_type": "code",
        "colab": {
          "base_uri": "https://localhost:8080/",
          "height": 51
        },
        "outputId": "1ad837b3-a61d-42f6-b0c0-8017c330dfed"
      },
      "source": [
        "# For Panlindromes\n",
        "word =input(\"Enter string:\")\n",
        "if(word==word[::-1]):\n",
        "   print(\"The string is a palindrome\")\n",
        "else:\n",
        "   print(\"The string isn't a palindrome\")"
      ],
      "execution_count": 18,
      "outputs": [
        {
          "output_type": "stream",
          "text": [
            "Enter string:racecar\n",
            "The string is a palindrome\n"
          ],
          "name": "stdout"
        }
      ]
    },
    {
      "cell_type": "code",
      "metadata": {
        "id": "BB4tdzAYFnKE",
        "colab_type": "code",
        "colab": {
          "base_uri": "https://localhost:8080/",
          "height": 68
        },
        "outputId": "ccfe9fd8-a4f4-4c63-d06a-1efffa401f4f"
      },
      "source": [
        "#For Anagrams\n",
        "a=input(\"Enter string 1:\")\n",
        "b=input(\"Enter string 2:\")\n",
        "\n",
        "count=0\n",
        "\n",
        "for i in a:\n",
        "  for j in b:\n",
        "    if i==j:\n",
        "      count=count+1\n",
        "if count==len(a):\n",
        "  print(\"Strings are anagram of each other.\")\n",
        "else:\n",
        "  print(\"Strings are not anagram of each other.\")"
      ],
      "execution_count": 33,
      "outputs": [
        {
          "output_type": "stream",
          "text": [
            "Enter string 1:listen\n",
            "Enter string 2:silent\n",
            "Strings are anagram of each other.\n"
          ],
          "name": "stdout"
        }
      ]
    },
    {
      "cell_type": "markdown",
      "metadata": {
        "id": "ws65XVIMIH_7",
        "colab_type": "text"
      },
      "source": [
        "**Write a Python's user-defined function that removes all the additional characters from the string and\n",
        "convert it finally to lower case using built-in lower(). eg: If the string is \"Dr. Darshan Ingle @AIML Trainer\",\n",
        "then the output be \"drdarshaningleaimltrainer\".**"
      ]
    },
    {
      "cell_type": "code",
      "metadata": {
        "id": "V5fitKL-GsD4",
        "colab_type": "code",
        "colab": {
          "base_uri": "https://localhost:8080/",
          "height": 51
        },
        "outputId": "7f55fa91-24c9-4366-e61d-c7cd60f917e2"
      },
      "source": [
        "original = \"Dr. Darshan Ingle @AIML Trainer\"\n",
        "print (\"Original String: \" + original)\n",
        "\n",
        "unwanted = \".@\" \n",
        "\n",
        "for char in unwanted:\n",
        " original = original.replace(char,\"\")\n",
        " original = original.replace(\" \",\"\")\n",
        "print(\"Final Output: \" + (original.lower()))\n"
      ],
      "execution_count": 56,
      "outputs": [
        {
          "output_type": "stream",
          "text": [
            "Original String: Dr. Darshan Ingle @AIML Trainer\n",
            "Final Output: drdarshaningleaimltrainer\n"
          ],
          "name": "stdout"
        }
      ]
    }
  ]
}