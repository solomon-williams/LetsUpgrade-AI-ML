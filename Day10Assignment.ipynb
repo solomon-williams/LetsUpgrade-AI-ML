{
  "nbformat": 4,
  "nbformat_minor": 0,
  "metadata": {
    "colab": {
      "name": "Day10Assignment.ipynb",
      "provenance": [],
      "authorship_tag": "ABX9TyMEL/ajMlwJw3a1UcbM+idP",
      "include_colab_link": true
    },
    "kernelspec": {
      "name": "python3",
      "display_name": "Python 3"
    }
  },
  "cells": [
    {
      "cell_type": "markdown",
      "metadata": {
        "id": "view-in-github",
        "colab_type": "text"
      },
      "source": [
        "<a href=\"https://colab.research.google.com/github/solomon-williams/LetsUpgrade-AI-ML/blob/master/Day10Assignment.ipynb\" target=\"_parent\"><img src=\"https://colab.research.google.com/assets/colab-badge.svg\" alt=\"Open In Colab\"/></a>"
      ]
    },
    {
      "cell_type": "markdown",
      "metadata": {
        "id": "fyhPA2sD9qlT",
        "colab_type": "text"
      },
      "source": [
        "##Create an element-wise comparison (greater, greater_equal, less and less_equal) of two given arrays."
      ]
    },
    {
      "cell_type": "code",
      "metadata": {
        "id": "zxUQRgeb9SiT",
        "colab_type": "code",
        "colab": {
          "base_uri": "https://localhost:8080/",
          "height": 194
        },
        "outputId": "e7afbcc0-5c9b-463f-fba2-e49516b8f508"
      },
      "source": [
        "import numpy as np\n",
        "x = np.array([3, 5])\n",
        "y = np.array([2, 5])\n",
        "print(\"Original numbers:\")\n",
        "print(x)\n",
        "print(y)\n",
        "print(\"Comparison - greater\")\n",
        "print(np.greater(x, y))\n",
        "print(\"Comparison - greater_equal\")\n",
        "print(np.greater_equal(x, y))\n",
        "print(\"Comparison - less\")\n",
        "print(np.less(x, y))\n",
        "print(\"Comparison - less_equal\")\n",
        "print(np.less_equal(x, y))"
      ],
      "execution_count": 1,
      "outputs": [
        {
          "output_type": "stream",
          "text": [
            "Original numbers:\n",
            "[3 5]\n",
            "[2 5]\n",
            "Comparison - greater\n",
            "[ True False]\n",
            "Comparison - greater_equal\n",
            "[ True  True]\n",
            "Comparison - less\n",
            "[False False]\n",
            "Comparison - less_equal\n",
            "[False  True]\n"
          ],
          "name": "stdout"
        }
      ]
    },
    {
      "cell_type": "markdown",
      "metadata": {
        "id": "b3h51h80AdVL",
        "colab_type": "text"
      },
      "source": [
        ""
      ]
    },
    {
      "cell_type": "markdown",
      "metadata": {
        "id": "Ay9zDJM2-dBX",
        "colab_type": "text"
      },
      "source": [
        "##Write a NumPy program to create an array of 10 zeros,10 ones, 10 fives."
      ]
    },
    {
      "cell_type": "code",
      "metadata": {
        "id": "mY-veKkB-AGy",
        "colab_type": "code",
        "colab": {
          "base_uri": "https://localhost:8080/",
          "height": 114
        },
        "outputId": "cd721a34-1e48-43c7-b2df-86e495157834"
      },
      "source": [
        "import numpy as np\n",
        "array=np.zeros(10)\n",
        "print(\"An array of 10 zeros:\")\n",
        "print(array)\n",
        "array=np.ones(10)\n",
        "print(\"An array of 10 ones:\")\n",
        "print(array)\n",
        "array=np.ones(10)*5\n",
        "print(\"An array of 10 fives:\")\n",
        "print(array)"
      ],
      "execution_count": 2,
      "outputs": [
        {
          "output_type": "stream",
          "text": [
            "An array of 10 zeros:\n",
            "[0. 0. 0. 0. 0. 0. 0. 0. 0. 0.]\n",
            "An array of 10 ones:\n",
            "[1. 1. 1. 1. 1. 1. 1. 1. 1. 1.]\n",
            "An array of 10 fives:\n",
            "[5. 5. 5. 5. 5. 5. 5. 5. 5. 5.]\n"
          ],
          "name": "stdout"
        }
      ]
    },
    {
      "cell_type": "markdown",
      "metadata": {
        "id": "48nocUdH-r8j",
        "colab_type": "text"
      },
      "source": [
        "##Write a NumPy program to compute sum of all elements, sum of each column and sum of each row of a given array."
      ]
    },
    {
      "cell_type": "code",
      "metadata": {
        "id": "aUaYLPmq-wtM",
        "colab_type": "code",
        "colab": {
          "base_uri": "https://localhost:8080/",
          "height": 178
        },
        "outputId": "cf6166e2-be9e-42d5-a7db-40b0c87fc23e"
      },
      "source": [
        "import numpy as np\n",
        "x = np.array([[0,1,5],[2,3,6],[8,5,7]])\n",
        "print(\"Original array:\")\n",
        "print(x)\n",
        "print(\"Sum of all elements:\")\n",
        "print(np.sum(x))\n",
        "print(\"Sum of each column:\")\n",
        "print(np.sum(x, axis=0))\n",
        "print(\"Sum of each row:\")\n",
        "print(np.sum(x, axis=1))"
      ],
      "execution_count": 3,
      "outputs": [
        {
          "output_type": "stream",
          "text": [
            "Original array:\n",
            "[[0 1 5]\n",
            " [2 3 6]\n",
            " [8 5 7]]\n",
            "Sum of all elements:\n",
            "37\n",
            "Sum of each column:\n",
            "[10  9 18]\n",
            "Sum of each row:\n",
            "[ 6 11 20]\n"
          ],
          "name": "stdout"
        }
      ]
    },
    {
      "cell_type": "markdown",
      "metadata": {
        "id": "IVdRm_EG-9Hr",
        "colab_type": "text"
      },
      "source": [
        "##Write a NumPy program to add, subtract, multiply, divide arguments element-wise."
      ]
    },
    {
      "cell_type": "code",
      "metadata": {
        "id": "cxRsFxei_OIv",
        "colab_type": "code",
        "colab": {
          "base_uri": "https://localhost:8080/",
          "height": 290
        },
        "outputId": "83b1867b-1fb4-4c18-8103-2caab26935f4"
      },
      "source": [
        "import numpy as np\n",
        "Row = int(input(\"Enter the number of rows:\")) \n",
        "Column = int(input(\"Enter the number of columns:\")) \n",
        "  \n",
        "print(\"Enter the entries in a single line (separated by space): \") \n",
        "  \n",
        "\n",
        "entries = list(map(int, input().split())) \n",
        "entries1 = list(map(int, input().split()))  \n",
        "\n",
        "matrix = np.array(entries).reshape(Row, Column)\n",
        "matrix2 = np.array(entries1).reshape(Row, Column)\n",
        "print(\"First matrix = \",matrix) \n",
        "print(\"Second matrix = \",matrix2)\n",
        "print(\"Addition = \", matrix + matrix2 )\n",
        "print(\"Substraction = \", matrix - matrix2 )\n",
        "print(\"Multiplication = \", matrix * matrix2 )\n",
        "print(\"Division = \", matrix / matrix2 )"
      ],
      "execution_count": 6,
      "outputs": [
        {
          "output_type": "stream",
          "text": [
            "Enter the number of rows:2\n",
            "Enter the number of columns:3\n",
            "Enter the entries in a single line (separated by space): \n",
            "1 2 3 4 5 6\n",
            "2 5 8 9 6 3\n",
            "First matrix =  [[1 2 3]\n",
            " [4 5 6]]\n",
            "Second matrix =  [[2 5 8]\n",
            " [9 6 3]]\n",
            "Addition =  [[ 3  7 11]\n",
            " [13 11  9]]\n",
            "Substraction =  [[-1 -3 -5]\n",
            " [-5 -1  3]]\n",
            "Multiplication =  [[ 2 10 24]\n",
            " [36 30 18]]\n",
            "Division =  [[0.5        0.4        0.375     ]\n",
            " [0.44444444 0.83333333 2.        ]]\n"
          ],
          "name": "stdout"
        }
      ]
    },
    {
      "cell_type": "markdown",
      "metadata": {
        "id": "r0VSQd1CBhiv",
        "colab_type": "text"
      },
      "source": [
        "##Write a NumPy program to compute the trigonometric sine, cosine and tangent array of angles given in degree.\n"
      ]
    },
    {
      "cell_type": "code",
      "metadata": {
        "id": "ysHb9zf6BsNG",
        "colab_type": "code",
        "colab": {
          "base_uri": "https://localhost:8080/",
          "height": 146
        },
        "outputId": "ca6a232e-fbf3-478c-a20d-4213a3326b6f"
      },
      "source": [
        "import numpy as np\n",
        "print(\"sine: array of angles given in degrees\")\n",
        "print(np.sin(np.array((0., 30., 45., 60., 90.)) * np.pi / 180.))\n",
        "print(\"cosine: array of angles given in degrees\")\n",
        "print(np.cos(np.array((0., 30., 45., 60., 90.)) * np.pi / 180.))\n",
        "print(\"tangent: array of angles given in degrees\")\n",
        "print(np.tan(np.array((0., 30., 45., 60., 90.)) * np.pi / 180.))"
      ],
      "execution_count": 7,
      "outputs": [
        {
          "output_type": "stream",
          "text": [
            "sine: array of angles given in degrees\n",
            "[0.         0.5        0.70710678 0.8660254  1.        ]\n",
            "cosine: array of angles given in degrees\n",
            "[1.00000000e+00 8.66025404e-01 7.07106781e-01 5.00000000e-01\n",
            " 6.12323400e-17]\n",
            "tangent: array of angles given in degrees\n",
            "[0.00000000e+00 5.77350269e-01 1.00000000e+00 1.73205081e+00\n",
            " 1.63312394e+16]\n"
          ],
          "name": "stdout"
        }
      ]
    },
    {
      "cell_type": "markdown",
      "metadata": {
        "id": "snMbYrnRB6af",
        "colab_type": "text"
      },
      "source": [
        "##Write a Pandas program to create and display a DataFrame from a specified dictionary data which has the index labels\n"
      ]
    },
    {
      "cell_type": "code",
      "metadata": {
        "id": "tdOdgGLGCBB1",
        "colab_type": "code",
        "colab": {
          "base_uri": "https://localhost:8080/",
          "height": 194
        },
        "outputId": "40ab8c19-b808-4f63-a86f-c804a9b360da"
      },
      "source": [
        "import numpy as np\n",
        "import pandas as pd\n",
        "\n",
        "exam_data  = {'Name': ['Anastasia', 'Dima', 'Katherine', 'James', 'Emily', 'Michael', 'Matthew', 'Laura', 'Kevin', 'Jonas'],\n",
        "        'Score': [12.5, 9, 16.5, np.nan, 9, 20, 14.5, np.nan, 8, 19],'Qualification_Status':['yes', 'no', 'yes', 'no','no','yes','yes','no','no','yes']}\n",
        "labels = ['1', '2', '3', '4', '5', '6', '7', '8', '9', '10']\n",
        "\n",
        "TB = pd.DataFrame(exam_data , index=labels)\n",
        "print(TB)"
      ],
      "execution_count": 10,
      "outputs": [
        {
          "output_type": "stream",
          "text": [
            "         Name  Score Qualification_Status\n",
            "1   Anastasia   12.5                  yes\n",
            "2        Dima    9.0                   no\n",
            "3   Katherine   16.5                  yes\n",
            "4       James    NaN                   no\n",
            "5       Emily    9.0                   no\n",
            "6     Michael   20.0                  yes\n",
            "7     Matthew   14.5                  yes\n",
            "8       Laura    NaN                   no\n",
            "9       Kevin    8.0                   no\n",
            "10      Jonas   19.0                  yes\n"
          ],
          "name": "stdout"
        }
      ]
    },
    {
      "cell_type": "markdown",
      "metadata": {
        "id": "ahue5YbrC7u9",
        "colab_type": "text"
      },
      "source": [
        "##Write a Pandas program to select the 'name' and 'score' columns from the following DataFrame."
      ]
    },
    {
      "cell_type": "code",
      "metadata": {
        "id": "DM5-bnn2Cnv-",
        "colab_type": "code",
        "colab": {
          "base_uri": "https://localhost:8080/",
          "height": 194
        },
        "outputId": "0fa73def-0df6-45ba-f4f2-2e9b1ee2fed9"
      },
      "source": [
        "import pandas as pd\n",
        "import numpy as np\n",
        "\n",
        "exam_data  = {'Name': ['Anastasia', 'Dima', 'Katherine', 'James', 'Emily', 'Michael', 'Matthew', 'Laura', 'Kevin', 'Jonas'],\n",
        "        'Score': [12.5, 9, 16.5, np.nan, 9, 20, 14.5, np.nan, 8, 19],'Qualification_Status':['yes', 'no', 'yes', 'no','no','yes','yes','no','no','yes']}\n",
        "labels = ['1', '2', '3', '4', '5', '6', '7', '8', '9', '10']\n",
        "\n",
        "TB = pd.DataFrame(exam_data , index=labels)\n",
        "#print(TB)\n",
        "print(TB[['Name', 'Score']])"
      ],
      "execution_count": 12,
      "outputs": [
        {
          "output_type": "stream",
          "text": [
            "         Name  Score\n",
            "1   Anastasia   12.5\n",
            "2        Dima    9.0\n",
            "3   Katherine   16.5\n",
            "4       James    NaN\n",
            "5       Emily    9.0\n",
            "6     Michael   20.0\n",
            "7     Matthew   14.5\n",
            "8       Laura    NaN\n",
            "9       Kevin    8.0\n",
            "10      Jonas   19.0\n"
          ],
          "name": "stdout"
        }
      ]
    },
    {
      "cell_type": "markdown",
      "metadata": {
        "id": "TO03_0ljEejW",
        "colab_type": "text"
      },
      "source": [
        "##Write a Pandas program to join the two given dataframes along rows and assign all data.\n"
      ]
    },
    {
      "cell_type": "code",
      "metadata": {
        "id": "24pmzKwpEWCd",
        "colab_type": "code",
        "colab": {
          "base_uri": "https://localhost:8080/",
          "height": 160
        },
        "outputId": "98c3c7e2-e01a-4e86-88ec-5ab3f4b51766"
      },
      "source": [
        "import pandas as pd\n",
        "import numpy as np\n",
        "\n",
        "left = pd.DataFrame({'Key': ['K0', 'K1', 'K2', 'K3'], \n",
        "'A': ['A0', 'A1', 'A2', 'A3'], \n",
        "'B': ['B0', 'B1', 'B2', 'B3']}) \n",
        "\n",
        "right = pd.DataFrame({'Key': ['K0', 'K1', 'K2', 'K3'], \n",
        "'C': ['C0', 'C1', 'C2', 'C3'], \n",
        "'D': ['D0', 'D1', 'D2', 'D3']}) \n",
        "\n",
        "\n",
        "pd.merge(left, right, how ='inner', on ='Key')"
      ],
      "execution_count": 13,
      "outputs": [
        {
          "output_type": "execute_result",
          "data": {
            "text/html": [
              "<div>\n",
              "<style scoped>\n",
              "    .dataframe tbody tr th:only-of-type {\n",
              "        vertical-align: middle;\n",
              "    }\n",
              "\n",
              "    .dataframe tbody tr th {\n",
              "        vertical-align: top;\n",
              "    }\n",
              "\n",
              "    .dataframe thead th {\n",
              "        text-align: right;\n",
              "    }\n",
              "</style>\n",
              "<table border=\"1\" class=\"dataframe\">\n",
              "  <thead>\n",
              "    <tr style=\"text-align: right;\">\n",
              "      <th></th>\n",
              "      <th>Key</th>\n",
              "      <th>A</th>\n",
              "      <th>B</th>\n",
              "      <th>C</th>\n",
              "      <th>D</th>\n",
              "    </tr>\n",
              "  </thead>\n",
              "  <tbody>\n",
              "    <tr>\n",
              "      <th>0</th>\n",
              "      <td>K0</td>\n",
              "      <td>A0</td>\n",
              "      <td>B0</td>\n",
              "      <td>C0</td>\n",
              "      <td>D0</td>\n",
              "    </tr>\n",
              "    <tr>\n",
              "      <th>1</th>\n",
              "      <td>K1</td>\n",
              "      <td>A1</td>\n",
              "      <td>B1</td>\n",
              "      <td>C1</td>\n",
              "      <td>D1</td>\n",
              "    </tr>\n",
              "    <tr>\n",
              "      <th>2</th>\n",
              "      <td>K2</td>\n",
              "      <td>A2</td>\n",
              "      <td>B2</td>\n",
              "      <td>C2</td>\n",
              "      <td>D2</td>\n",
              "    </tr>\n",
              "    <tr>\n",
              "      <th>3</th>\n",
              "      <td>K3</td>\n",
              "      <td>A3</td>\n",
              "      <td>B3</td>\n",
              "      <td>C3</td>\n",
              "      <td>D3</td>\n",
              "    </tr>\n",
              "  </tbody>\n",
              "</table>\n",
              "</div>"
            ],
            "text/plain": [
              "  Key   A   B   C   D\n",
              "0  K0  A0  B0  C0  D0\n",
              "1  K1  A1  B1  C1  D1\n",
              "2  K2  A2  B2  C2  D2\n",
              "3  K3  A3  B3  C3  D3"
            ]
          },
          "metadata": {
            "tags": []
          },
          "execution_count": 13
        }
      ]
    },
    {
      "cell_type": "markdown",
      "metadata": {
        "id": "zlxOCBvZEzmW",
        "colab_type": "text"
      },
      "source": [
        "##Write a Pandas program to detect missing values of a given DataFrame. Display True or False."
      ]
    },
    {
      "cell_type": "code",
      "metadata": {
        "id": "d5C01aeYE4s8",
        "colab_type": "code",
        "colab": {
          "base_uri": "https://localhost:8080/",
          "height": 347
        },
        "outputId": "75921544-f02c-4d47-bf43-cc46d941cb57"
      },
      "source": [
        "import pandas as pd\n",
        "import numpy as np\n",
        "\n",
        "exam_data  = {'Name': ['Anastasia', 'Dima', np.nan, 'James', 'Emily', 'Michael', 'Matthew', np.nan, 'Kevin', 'Jonas'],\n",
        "        'Score': [12.5, 9, 16.5, np.nan, 9, 20, 14.5, np.nan, 8, 19],'Qualification_Status':['yes', np.nan, 'yes', 'no','no','yes','yes','no','no','yes']}\n",
        "labels = ['1', '2', '3', '4', '5', '6', '7', '8', '9', '10']\n",
        "\n",
        "TB = pd.DataFrame(exam_data , index=labels)\n",
        "#print(TB)\n",
        "#print(TB[['name', 'score']])\n",
        "TB.isnull()\n"
      ],
      "execution_count": 14,
      "outputs": [
        {
          "output_type": "execute_result",
          "data": {
            "text/html": [
              "<div>\n",
              "<style scoped>\n",
              "    .dataframe tbody tr th:only-of-type {\n",
              "        vertical-align: middle;\n",
              "    }\n",
              "\n",
              "    .dataframe tbody tr th {\n",
              "        vertical-align: top;\n",
              "    }\n",
              "\n",
              "    .dataframe thead th {\n",
              "        text-align: right;\n",
              "    }\n",
              "</style>\n",
              "<table border=\"1\" class=\"dataframe\">\n",
              "  <thead>\n",
              "    <tr style=\"text-align: right;\">\n",
              "      <th></th>\n",
              "      <th>Name</th>\n",
              "      <th>Score</th>\n",
              "      <th>Qualification_Status</th>\n",
              "    </tr>\n",
              "  </thead>\n",
              "  <tbody>\n",
              "    <tr>\n",
              "      <th>1</th>\n",
              "      <td>False</td>\n",
              "      <td>False</td>\n",
              "      <td>False</td>\n",
              "    </tr>\n",
              "    <tr>\n",
              "      <th>2</th>\n",
              "      <td>False</td>\n",
              "      <td>False</td>\n",
              "      <td>True</td>\n",
              "    </tr>\n",
              "    <tr>\n",
              "      <th>3</th>\n",
              "      <td>True</td>\n",
              "      <td>False</td>\n",
              "      <td>False</td>\n",
              "    </tr>\n",
              "    <tr>\n",
              "      <th>4</th>\n",
              "      <td>False</td>\n",
              "      <td>True</td>\n",
              "      <td>False</td>\n",
              "    </tr>\n",
              "    <tr>\n",
              "      <th>5</th>\n",
              "      <td>False</td>\n",
              "      <td>False</td>\n",
              "      <td>False</td>\n",
              "    </tr>\n",
              "    <tr>\n",
              "      <th>6</th>\n",
              "      <td>False</td>\n",
              "      <td>False</td>\n",
              "      <td>False</td>\n",
              "    </tr>\n",
              "    <tr>\n",
              "      <th>7</th>\n",
              "      <td>False</td>\n",
              "      <td>False</td>\n",
              "      <td>False</td>\n",
              "    </tr>\n",
              "    <tr>\n",
              "      <th>8</th>\n",
              "      <td>True</td>\n",
              "      <td>True</td>\n",
              "      <td>False</td>\n",
              "    </tr>\n",
              "    <tr>\n",
              "      <th>9</th>\n",
              "      <td>False</td>\n",
              "      <td>False</td>\n",
              "      <td>False</td>\n",
              "    </tr>\n",
              "    <tr>\n",
              "      <th>10</th>\n",
              "      <td>False</td>\n",
              "      <td>False</td>\n",
              "      <td>False</td>\n",
              "    </tr>\n",
              "  </tbody>\n",
              "</table>\n",
              "</div>"
            ],
            "text/plain": [
              "     Name  Score  Qualification_Status\n",
              "1   False  False                 False\n",
              "2   False  False                  True\n",
              "3    True  False                 False\n",
              "4   False   True                 False\n",
              "5   False  False                 False\n",
              "6   False  False                 False\n",
              "7   False  False                 False\n",
              "8    True   True                 False\n",
              "9   False  False                 False\n",
              "10  False  False                 False"
            ]
          },
          "metadata": {
            "tags": []
          },
          "execution_count": 14
        }
      ]
    },
    {
      "cell_type": "markdown",
      "metadata": {
        "id": "dYy39ZYrFJmG",
        "colab_type": "text"
      },
      "source": [
        "##Write a Pandas program to create and display a one-dimensional array-like object containing an array of data.\n",
        "\n"
      ]
    },
    {
      "cell_type": "code",
      "metadata": {
        "id": "IijGcfC3FK4p",
        "colab_type": "code",
        "colab": {
          "base_uri": "https://localhost:8080/",
          "height": 176
        },
        "outputId": "79b3550d-819a-403f-cd07-dda4493f9063"
      },
      "source": [
        "import pandas as pd\n",
        "import numpy as np\n",
        "\n",
        "exam_data  = {'Even Numbers:': ['2', '4', '6', '8', '10', '12', '14', '16']}\n",
        "\n",
        "TB = pd.DataFrame(exam_data)\n",
        "print(TB)"
      ],
      "execution_count": 15,
      "outputs": [
        {
          "output_type": "stream",
          "text": [
            "  Even Numbers:\n",
            "0             2\n",
            "1             4\n",
            "2             6\n",
            "3             8\n",
            "4            10\n",
            "5            12\n",
            "6            14\n",
            "7            16\n"
          ],
          "name": "stdout"
        }
      ]
    }
  ]
}