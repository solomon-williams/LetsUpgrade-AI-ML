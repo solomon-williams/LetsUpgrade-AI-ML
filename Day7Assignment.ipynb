{
  "nbformat": 4,
  "nbformat_minor": 0,
  "metadata": {
    "colab": {
      "name": "Day7Assignment.ipynb",
      "provenance": [],
      "authorship_tag": "ABX9TyMVwNYMZMO4qnzFG3HI9541",
      "include_colab_link": true
    },
    "kernelspec": {
      "name": "python3",
      "display_name": "Python 3"
    }
  },
  "cells": [
    {
      "cell_type": "markdown",
      "metadata": {
        "id": "view-in-github",
        "colab_type": "text"
      },
      "source": [
        "<a href=\"https://colab.research.google.com/github/solomon-williams/LetsUpgrade-AI-ML/blob/master/Day7Assignment.ipynb\" target=\"_parent\"><img src=\"https://colab.research.google.com/assets/colab-badge.svg\" alt=\"Open In Colab\"/></a>"
      ]
    },
    {
      "cell_type": "markdown",
      "metadata": {
        "id": "cvR3L2A4fbeK",
        "colab_type": "text"
      },
      "source": [
        "### Write a program to copy the contents of one file to another using a for loop."
      ]
    },
    {
      "cell_type": "code",
      "metadata": {
        "id": "9XcwlUz5fW3S",
        "colab_type": "code",
        "colab": {}
      },
      "source": [
        "f1 = open(\"source.txt\",\"w\")\n",
        "f1.write(\"\\nThis is a Source file\")\n",
        "\n",
        "f2 = open(\"destination.txt\",\"w\")\n",
        "f2.write(\"This is a Destination file\")\n",
        "\n",
        "with open(\"source.txt\") as f1:\n",
        "    with open(\"destination.txt\", \"a\") as f2:\n",
        "        for line in f1:\n",
        "            f2.write(line)\n",
        "            \n",
        "f1.close()\n",
        "f2.close()            "
      ],
      "execution_count": 2,
      "outputs": []
    },
    {
      "cell_type": "markdown",
      "metadata": {
        "id": "kvx5PFnhfgSc",
        "colab_type": "text"
      },
      "source": [
        "### Write a Python program to find maximum and minimum values in the dictionary."
      ]
    },
    {
      "cell_type": "code",
      "metadata": {
        "id": "S9N8BZfLtcAd",
        "colab_type": "code",
        "colab": {
          "base_uri": "https://localhost:8080/",
          "height": 85
        },
        "outputId": "c566a42a-bbb0-4355-f8f8-419525c759cd"
      },
      "source": [
        "dictionary = {\"AI\": 1,\"ML\": 2,\"DL\": 3}\n",
        "\n",
        "maximum = 0\n",
        "max_key = None\n",
        "for k in dictionary:\n",
        "    if dictionary[k] > maximum:\n",
        "        maximum = dictionary[k]\n",
        "        max_key = k\n",
        "        \n",
        "minimum = float('inf')\n",
        "min_key = float('inf')\n",
        "for k in dictionary:\n",
        "    if dictionary[k] < minimum:\n",
        "        minimum = dictionary[k]\n",
        "        min_key = k\n",
        "\n",
        "        \n",
        "print(\"The maximum key is :\", max_key)\n",
        "print(\"The maximum value is :\", maximum)        \n",
        "        \n",
        "print(\"The minimum key is :\", min_key)\n",
        "print(\"The minimum value is :\", minimum)"
      ],
      "execution_count": 1,
      "outputs": [
        {
          "output_type": "stream",
          "text": [
            "The maximum key is : DL\n",
            "The maximum value is : 3\n",
            "The minimum key is : AI\n",
            "The minimum value is : 1\n"
          ],
          "name": "stdout"
        }
      ]
    }
  ]
}